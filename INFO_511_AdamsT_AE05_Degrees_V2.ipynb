{
 "cells": [
  {
   "cell_type": "code",
   "execution_count": null,
   "id": "8e7a7b43",
   "metadata": {},
   "outputs": [],
   "source": [
    "'''\n",
    "INFO_511_ Application Exercise 05: Wrangling College Majors\n",
    "Author: Todd Adams\n",
    "Date: 04/06/2024\n",
    "Description: We are answering questions related to the Degrees dataset.\n",
    "Note: I used VS Code and ChatGPT to help me write this code.\n",
    "'''\n"
   ]
  },
  {
   "cell_type": "code",
   "execution_count": null,
   "id": "32aba087",
   "metadata": {},
   "outputs": [],
   "source": [
    "import pandas as pd\n",
    "import matplotlib.pyplot as plt\n",
    "import seaborn as sns\n",
    "from matplotlib.ticker import FormatStrFormatter\n",
    "\n",
    "# Load data\n",
    "degrees = pd.read_csv(\"data/degrees.csv\")\n",
    "\n",
    "# Preview data\n",
    "degrees.head()\n",
    "degrees.info()"
   ]
  },
  {
   "cell_type": "code",
   "execution_count": null,
   "id": "16fd88d7",
   "metadata": {},
   "outputs": [],
   "source": [
    "# First pivot: wider to longer\n",
    "degrees_long = degrees.melt(id_vars='degree', \n",
    "                            var_name='year', \n",
    "                            value_name='n')\n",
    "\n",
    "# Check result\n",
    "degrees_long.head()\n"
   ]
  },
  {
   "cell_type": "markdown",
   "id": "04b5ddfc",
   "metadata": {},
   "source": [
    "**What is the type of year and what should it be?**  \n",
    "\n",
    "The `year` column is currently a string because it was created from column headers.  \n",
    "It should be converted to an **integer** so that we can treat it numerically for plotting and filtering purposes.\n"
   ]
  },
  {
   "cell_type": "code",
   "execution_count": null,
   "id": "a197a777",
   "metadata": {},
   "outputs": [],
   "source": [
    "# Check data types\n",
    "degrees_long['year'] = degrees_long['year'].astype(int)\n"
   ]
  },
  {
   "cell_type": "markdown",
   "id": "4d78172c",
   "metadata": {},
   "source": [
    "**What would an NA mean in this context?**  \n",
    "\n",
    "An `NA` means there was no recorded number of graduates for that degree and year.  \n",
    "Since this dataset comes from university records, NA likely means **zero** students graduated, not \"unknown.\"  \n",
    "Therefore, it makes sense to replace these NAs with 0.\n"
   ]
  },
  {
   "cell_type": "code",
   "execution_count": null,
   "id": "7d79942c",
   "metadata": {},
   "outputs": [],
   "source": [
    "# Replace missing values with 0\n",
    "degrees_long['n'] = degrees_long['n'].fillna(0)\n",
    "\n",
    "# Extract degree type (e.g., \"BA\", \"BS\", \"MA\", \"MS\", \"PhD\")\n",
    "import re\n",
    "\n",
    "# Extract degree type from the 'degree' column\n",
    "degrees_long['degree_type'] = degrees_long['degree'].str.extract(r'\\((.*?)\\)')\n",
    "\n",
    "# First draft plot\n",
    "sns.set_style(\"whitegrid\")\n",
    "\n",
    "plt.figure(figsize=(10, 6))\n",
    "\n",
    "sns.lineplot(\n",
    "    data=degrees_long,\n",
    "    x='year',\n",
    "    y='n',\n",
    "    hue='degree_type',\n",
    "    ci=None\n",
    ")\n",
    "\n",
    "plt.title(\"First Draft: Number of Graduates by Degree Type\")\n",
    "plt.xlabel(\"Year\")\n",
    "plt.ylabel(\"Number of Students\")\n",
    "plt.legend(title=\"Degree Type\")\n",
    "plt.show()\n"
   ]
  },
  {
   "cell_type": "markdown",
   "id": "9de685d3",
   "metadata": {},
   "source": [
    "**What needs to be updated to match the goal plot?**\n",
    "\n",
    "The final plot should include:  \n",
    "- A specific title matching the goal image  \n",
    "- A custom color palette for degree types  \n",
    "- X-axis should show ticks from 2019 to 2023 only  \n",
    "- Degree type order should be enforced (BA, BS, MA, MS, PhD)  \n",
    "- Clean legend labeling  \n"
   ]
  },
  {
   "cell_type": "code",
   "execution_count": null,
   "id": "d8dc3be3",
   "metadata": {},
   "outputs": [],
   "source": [
    "# Set correct order and color palette\n",
    "order = [\"BA\", \"BS\", \"MA\", \"MS\", \"PhD\"]\n",
    "colors = {\n",
    "    \"BA\": \"#53868B\",\n",
    "    \"BS\": \"#7AC5CD\",\n",
    "    \"MA\": \"#89a285\",\n",
    "    \"MS\": \"#8B814C\",\n",
    "    \"PhD\": \"#CDBE70\"\n",
    "}\n",
    "\n",
    "sns.set_style(\"whitegrid\")\n",
    "\n",
    "plt.figure(figsize=(10, 6))\n",
    "\n",
    "sns.lineplot(\n",
    "    data=degrees_long,\n",
    "    x='year',\n",
    "    y='n',\n",
    "    hue='degree_type',\n",
    "    hue_order=order,\n",
    "    palette=colors,\n",
    "    ci=None\n",
    ")\n",
    "\n",
    "plt.title(\"College of Information Science degrees over the years\\nAcademic years 2019 - 2023\", fontsize=14)\n",
    "plt.xlabel(\"Graduation year\")\n",
    "plt.ylabel(\"Number of students graduating\")\n",
    "plt.xticks(ticks=[2019, 2020, 2021, 2022, 2023])  # Ensure only these years show\n",
    "plt.legend(title=\"Degree type\")\n",
    "plt.tight_layout()\n",
    "plt.show()\n"
   ]
  }
 ],
 "metadata": {
  "language_info": {
   "name": "python"
  }
 },
 "nbformat": 4,
 "nbformat_minor": 5
}
